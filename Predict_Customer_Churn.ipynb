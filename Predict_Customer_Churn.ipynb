{
  "nbformat": 4,
  "nbformat_minor": 0,
  "metadata": {
    "colab": {
      "provenance": [],
      "authorship_tag": "ABX9TyMWgbaul6Y9z3WAofvLZak9",
      "include_colab_link": true
    },
    "kernelspec": {
      "name": "python3",
      "display_name": "Python 3"
    },
    "language_info": {
      "name": "python"
    }
  },
  "cells": [
    {
      "cell_type": "markdown",
      "metadata": {
        "id": "view-in-github",
        "colab_type": "text"
      },
      "source": [
        "<a href=\"https://colab.research.google.com/github/jesminmousumy/Python-Programming/blob/main/Predict_Customer_Churn.ipynb\" target=\"_parent\"><img src=\"https://colab.research.google.com/assets/colab-badge.svg\" alt=\"Open In Colab\"/></a>"
      ]
    },
    {
      "cell_type": "code",
      "execution_count": 5,
      "metadata": {
        "colab": {
          "base_uri": "https://localhost:8080/"
        },
        "id": "RAkNo_bPYEvd",
        "outputId": "4f1bd764-02c3-4fa1-e4b3-f18c1ad9ff8d"
      },
      "outputs": [
        {
          "output_type": "stream",
          "name": "stdout",
          "text": [
            "   CustomerID  Age  MonthlySpending  Tenure  Churn\n",
            "0           1   62           100.70      24      1\n",
            "1           2   65           151.21       4      1\n",
            "2           3   18            97.58      47      0\n",
            "3           4   21           166.75      27      0\n",
            "4           5   21           192.44      51      0\n",
            "Model Accuracy: 0.60\n",
            "Confusion Matrix:\n",
            "[[10  3]\n",
            " [ 5  2]]\n",
            "    Age  MonthlySpending  Tenure  Actual_Churn  Predicted_Churn\n",
            "83   30            89.05      51             0                0\n",
            "53   53           165.05      21             0                1\n",
            "70   19           162.38       7             1                0\n",
            "45   57           109.41      51             0                0\n",
            "44   32           163.42      36             0                0\n",
            "39   67            71.97      37             0                0\n",
            "22   35            82.52      41             0                0\n",
            "80   18            71.19      22             1                0\n",
            "10   54           181.73      28             0                1\n",
            "0    62           100.70      24             1                0\n",
            "18   57           122.13      35             1                0\n",
            "30   34            51.40       9             0                0\n",
            "73   59            63.86      29             0                0\n",
            "33   33           176.21      49             0                0\n",
            "90   65           185.70      42             1                1\n",
            "4    21           192.44      51             0                0\n",
            "76   29            55.04      50             0                0\n",
            "77   64           195.34      42             0                1\n",
            "12   24            58.36       8             1                0\n",
            "31   69           176.35       2             1                1\n"
          ]
        }
      ],
      "source": [
        "#import libraries\n",
        "import pandas as pd\n",
        "import numpy as np\n",
        "from sklearn.model_selection import train_test_split\n",
        "from sklearn.linear_model import LogisticRegression\n",
        "from sklearn.metrics import accuracy_score, confusion_matrix, classification_report\n",
        "\n",
        "\n",
        "#Create a sanple dataset for Customer Chrun Prediction\n",
        "np.random.seed(0)\n",
        "\n",
        "data = {\n",
        "    'CustomerID': np.arange(1, 101),\n",
        "    'Age': np.random.randint(18, 70, size=100),\n",
        "    'MonthlySpending': np.round(np.random.uniform(50, 200, size=100), 2),\n",
        "    'Tenure': np.random.randint(1, 60, size=100),\n",
        "    'Churn': np.random.choice([0, 1], size=100, p=[0.7,0.3])\n",
        "}\n",
        "\n",
        "df = pd.DataFrame(data)\n",
        "print(df.head())\n",
        "\n",
        "#separate features and target\n",
        "X = df[['Age', 'MonthlySpending', 'Tenure']]\n",
        "y = df['Churn']\n",
        "\n",
        "#Split the dataset into traning and testing sets\n",
        "X_train, X_test, y_train, y_test = train_test_split(X, y, test_size=0.2, random_state=42)\n",
        "\n",
        "#Initialization and training the model\n",
        "model=LogisticRegression()\n",
        "model.fit(X_train, y_train)\n",
        "\n",
        "#Making Predictions on the test data\n",
        "y_pred = model.predict(X_test)\n",
        "\n",
        "#Evaluate the model's accuracy\n",
        "accuracy= accuracy_score(y_test, y_pred)\n",
        "print(f\"Model Accuracy: {accuracy:.2f}\")\n",
        "\n",
        "#Confusion matrix\n",
        "confusion_matrix = confusion_matrix(y_test, y_pred)\n",
        "print(\"Confusion Matrix:\")\n",
        "print(confusion_matrix)\n",
        "\n",
        "#Adding predictions to the test set for easier interpretation\n",
        "X_test_with_predictions = X_test.copy()\n",
        "X_test_with_predictions['Actual_Churn'] = y_test.values\n",
        "X_test_with_predictions['Predicted_Churn'] = y_pred\n",
        "\n",
        "\n",
        "print(X_test_with_predictions)\n"
      ]
    }
  ]
}