{
  "nbformat": 4,
  "nbformat_minor": 0,
  "metadata": {
    "colab": {
      "provenance": [],
      "authorship_tag": "ABX9TyOEGwkKC8HmpCCSafohT1ZZ",
      "include_colab_link": true
    },
    "kernelspec": {
      "name": "python3",
      "display_name": "Python 3"
    },
    "language_info": {
      "name": "python"
    }
  },
  "cells": [
    {
      "cell_type": "markdown",
      "metadata": {
        "id": "view-in-github",
        "colab_type": "text"
      },
      "source": [
        "<a href=\"https://colab.research.google.com/github/jesminmousumy/Python-Programming/blob/main/WebScrapping_API_Ingestion.ipynb\" target=\"_parent\"><img src=\"https://colab.research.google.com/assets/colab-badge.svg\" alt=\"Open In Colab\"/></a>"
      ]
    },
    {
      "cell_type": "code",
      "execution_count": null,
      "metadata": {
        "id": "AZU2gxXNATd7"
      },
      "outputs": [],
      "source": []
    },
    {
      "cell_type": "markdown",
      "source": [
        "# **Web Scrapping**"
      ],
      "metadata": {
        "id": "e5TxnHUKAqzM"
      }
    },
    {
      "cell_type": "code",
      "source": [
        "#import the necessary libraries\n",
        "import requests\n",
        "from bs4 import BeautifulSoup    #nevigate and extract HTML Documents\n",
        "import pandas as pd\n",
        "\n",
        "url= \"https://quotes.toscrape.com/\"    #url of the page to scrape\n",
        "\n",
        "response= requests.get(url)   #send a get request to fetch the raw HTML content\n",
        "\n",
        "soup= BeautifulSoup(response.text, 'html.parser')  #parse the HTML content using BeautifulSoup\n",
        "\n",
        "quotes_data = []#empty list where the extracted quotes and authors will be stored\n",
        "\n",
        "for quote in soup.find_all('div', class_='quote'):\n",
        "    text = quote.find('span', class_='text').text\n",
        "    author = quote.find('small', class_='author').text\n",
        "    quotes_data.append({'quote' : text, 'author' : author}) #{\"quote\":quote_text, author\":author_name}\n",
        "\n",
        "\n",
        "    for q in quotes_data:\n",
        "      print(f\" {q['quote']} - {q['author']}\")\n"
      ],
      "metadata": {
        "colab": {
          "base_uri": "https://localhost:8080/"
        },
        "id": "qwuXPc9eA5aD",
        "outputId": "652b09db-8163-4b5d-faa9-adf392ab1dfa"
      },
      "execution_count": 3,
      "outputs": [
        {
          "output_type": "stream",
          "name": "stdout",
          "text": [
            " “The world as we have created it is a process of our thinking. It cannot be changed without changing our thinking.” - Albert Einstein\n",
            " “The world as we have created it is a process of our thinking. It cannot be changed without changing our thinking.” - Albert Einstein\n",
            " “It is our choices, Harry, that show what we truly are, far more than our abilities.” - J.K. Rowling\n",
            " “The world as we have created it is a process of our thinking. It cannot be changed without changing our thinking.” - Albert Einstein\n",
            " “It is our choices, Harry, that show what we truly are, far more than our abilities.” - J.K. Rowling\n",
            " “There are only two ways to live your life. One is as though nothing is a miracle. The other is as though everything is a miracle.” - Albert Einstein\n",
            " “The world as we have created it is a process of our thinking. It cannot be changed without changing our thinking.” - Albert Einstein\n",
            " “It is our choices, Harry, that show what we truly are, far more than our abilities.” - J.K. Rowling\n",
            " “There are only two ways to live your life. One is as though nothing is a miracle. The other is as though everything is a miracle.” - Albert Einstein\n",
            " “The person, be it gentleman or lady, who has not pleasure in a good novel, must be intolerably stupid.” - Jane Austen\n",
            " “The world as we have created it is a process of our thinking. It cannot be changed without changing our thinking.” - Albert Einstein\n",
            " “It is our choices, Harry, that show what we truly are, far more than our abilities.” - J.K. Rowling\n",
            " “There are only two ways to live your life. One is as though nothing is a miracle. The other is as though everything is a miracle.” - Albert Einstein\n",
            " “The person, be it gentleman or lady, who has not pleasure in a good novel, must be intolerably stupid.” - Jane Austen\n",
            " “Imperfection is beauty, madness is genius and it's better to be absolutely ridiculous than absolutely boring.” - Marilyn Monroe\n",
            " “The world as we have created it is a process of our thinking. It cannot be changed without changing our thinking.” - Albert Einstein\n",
            " “It is our choices, Harry, that show what we truly are, far more than our abilities.” - J.K. Rowling\n",
            " “There are only two ways to live your life. One is as though nothing is a miracle. The other is as though everything is a miracle.” - Albert Einstein\n",
            " “The person, be it gentleman or lady, who has not pleasure in a good novel, must be intolerably stupid.” - Jane Austen\n",
            " “Imperfection is beauty, madness is genius and it's better to be absolutely ridiculous than absolutely boring.” - Marilyn Monroe\n",
            " “Try not to become a man of success. Rather become a man of value.” - Albert Einstein\n",
            " “The world as we have created it is a process of our thinking. It cannot be changed without changing our thinking.” - Albert Einstein\n",
            " “It is our choices, Harry, that show what we truly are, far more than our abilities.” - J.K. Rowling\n",
            " “There are only two ways to live your life. One is as though nothing is a miracle. The other is as though everything is a miracle.” - Albert Einstein\n",
            " “The person, be it gentleman or lady, who has not pleasure in a good novel, must be intolerably stupid.” - Jane Austen\n",
            " “Imperfection is beauty, madness is genius and it's better to be absolutely ridiculous than absolutely boring.” - Marilyn Monroe\n",
            " “Try not to become a man of success. Rather become a man of value.” - Albert Einstein\n",
            " “It is better to be hated for what you are than to be loved for what you are not.” - André Gide\n",
            " “The world as we have created it is a process of our thinking. It cannot be changed without changing our thinking.” - Albert Einstein\n",
            " “It is our choices, Harry, that show what we truly are, far more than our abilities.” - J.K. Rowling\n",
            " “There are only two ways to live your life. One is as though nothing is a miracle. The other is as though everything is a miracle.” - Albert Einstein\n",
            " “The person, be it gentleman or lady, who has not pleasure in a good novel, must be intolerably stupid.” - Jane Austen\n",
            " “Imperfection is beauty, madness is genius and it's better to be absolutely ridiculous than absolutely boring.” - Marilyn Monroe\n",
            " “Try not to become a man of success. Rather become a man of value.” - Albert Einstein\n",
            " “It is better to be hated for what you are than to be loved for what you are not.” - André Gide\n",
            " “I have not failed. I've just found 10,000 ways that won't work.” - Thomas A. Edison\n",
            " “The world as we have created it is a process of our thinking. It cannot be changed without changing our thinking.” - Albert Einstein\n",
            " “It is our choices, Harry, that show what we truly are, far more than our abilities.” - J.K. Rowling\n",
            " “There are only two ways to live your life. One is as though nothing is a miracle. The other is as though everything is a miracle.” - Albert Einstein\n",
            " “The person, be it gentleman or lady, who has not pleasure in a good novel, must be intolerably stupid.” - Jane Austen\n",
            " “Imperfection is beauty, madness is genius and it's better to be absolutely ridiculous than absolutely boring.” - Marilyn Monroe\n",
            " “Try not to become a man of success. Rather become a man of value.” - Albert Einstein\n",
            " “It is better to be hated for what you are than to be loved for what you are not.” - André Gide\n",
            " “I have not failed. I've just found 10,000 ways that won't work.” - Thomas A. Edison\n",
            " “A woman is like a tea bag; you never know how strong it is until it's in hot water.” - Eleanor Roosevelt\n",
            " “The world as we have created it is a process of our thinking. It cannot be changed without changing our thinking.” - Albert Einstein\n",
            " “It is our choices, Harry, that show what we truly are, far more than our abilities.” - J.K. Rowling\n",
            " “There are only two ways to live your life. One is as though nothing is a miracle. The other is as though everything is a miracle.” - Albert Einstein\n",
            " “The person, be it gentleman or lady, who has not pleasure in a good novel, must be intolerably stupid.” - Jane Austen\n",
            " “Imperfection is beauty, madness is genius and it's better to be absolutely ridiculous than absolutely boring.” - Marilyn Monroe\n",
            " “Try not to become a man of success. Rather become a man of value.” - Albert Einstein\n",
            " “It is better to be hated for what you are than to be loved for what you are not.” - André Gide\n",
            " “I have not failed. I've just found 10,000 ways that won't work.” - Thomas A. Edison\n",
            " “A woman is like a tea bag; you never know how strong it is until it's in hot water.” - Eleanor Roosevelt\n",
            " “A day without sunshine is like, you know, night.” - Steve Martin\n"
          ]
        }
      ]
    },
    {
      "cell_type": "code",
      "source": [],
      "metadata": {
        "id": "_mXrnk5AGmWA"
      },
      "execution_count": null,
      "outputs": []
    },
    {
      "cell_type": "markdown",
      "source": [
        "# **API Ingestion**"
      ],
      "metadata": {
        "id": "lnuTAaK9GnuG"
      }
    },
    {
      "cell_type": "code",
      "source": [
        "#import libraries\n",
        "import requests\n",
        "\n",
        "\n",
        "api_url= \"https://openweathermap.org/data/2.5/weather?q=London&units=metric&apiid=4ec9b4d68162cbcca9c3f97e6b1f034d\"\n",
        "\n",
        "response= requests.get(api_url)\n",
        "\n",
        "#check in the request was successful\n",
        "if response.status_code == 200:\n",
        "  weather_data = response.json()      #extract JSON data from the response\n",
        "\n",
        "  print(\"Raw API response:\" , weather_data)\n",
        "  city = weather_data.get('name','Unknown City')\n",
        "  main_data= weather_data.get('main', {})\n",
        "  temp_celcius=main_data.get('temp', 'No temperature data')\n",
        "  weather= weather_data.get('weather', [{}])[0]\n",
        "  weather_description= weather.get('description', 'No weather description')\n",
        "\n",
        "  #print the weather details\n",
        "\n",
        "  print(f\"Weather in {city}:\")\n",
        "  print(f\"Temperature: {temp_celcius}°C\")\n",
        "  print(f\"Description: {weather_description}\")\n",
        "\n",
        "  else:\n",
        "    print(\"Failed to fetch weather data. Status code:\", response.status_code)\n",
        "    print(\"API Response:\", response.text)\n",
        "\n",
        "\n",
        ""
      ],
      "metadata": {
        "colab": {
          "base_uri": "https://localhost:8080/",
          "height": 106
        },
        "id": "mCCqPM33Gv1Z",
        "outputId": "5249776f-afb5-47dd-ab12-5568fc7ae53c"
      },
      "execution_count": 12,
      "outputs": [
        {
          "output_type": "error",
          "ename": "SyntaxError",
          "evalue": "invalid syntax (<ipython-input-12-e4f433157933>, line 26)",
          "traceback": [
            "\u001b[0;36m  File \u001b[0;32m\"<ipython-input-12-e4f433157933>\"\u001b[0;36m, line \u001b[0;32m26\u001b[0m\n\u001b[0;31m    else:\u001b[0m\n\u001b[0m    ^\u001b[0m\n\u001b[0;31mSyntaxError\u001b[0m\u001b[0;31m:\u001b[0m invalid syntax\n"
          ]
        }
      ]
    }
  ]
}