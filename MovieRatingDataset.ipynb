{
  "nbformat": 4,
  "nbformat_minor": 0,
  "metadata": {
    "colab": {
      "provenance": [],
      "authorship_tag": "ABX9TyPYDLOiBCFgRy+6qRe8sK/0",
      "include_colab_link": true
    },
    "kernelspec": {
      "name": "python3",
      "display_name": "Python 3"
    },
    "language_info": {
      "name": "python"
    }
  },
  "cells": [
    {
      "cell_type": "markdown",
      "metadata": {
        "id": "view-in-github",
        "colab_type": "text"
      },
      "source": [
        "<a href=\"https://colab.research.google.com/github/jesminmousumy/Python-Programming/blob/main/MovieRatingDataset.ipynb\" target=\"_parent\"><img src=\"https://colab.research.google.com/assets/colab-badge.svg\" alt=\"Open In Colab\"/></a>"
      ]
    },
    {
      "cell_type": "code",
      "execution_count": null,
      "metadata": {
        "colab": {
          "base_uri": "https://localhost:8080/"
        },
        "id": "UB_JgWeu0JB0",
        "outputId": "53fb300b-d608-4231-9ed2-ad5510fd88a5"
      },
      "outputs": [
        {
          "output_type": "stream",
          "name": "stdout",
          "text": [
            "   UserId  MovieId  Rating   Timestamp\n",
            "0       1    68646      10  1381620027\n",
            "1       1   113277      10  1379466669\n",
            "2       2   454876       8  1394818630\n",
            "3       2   790636       7  1389963947\n",
            "4       2   816711       8  1379963769\n",
            "Mean Rating: 7.317986389533657\n",
            "Median Rating: 8.0\n",
            "Mode Rating: 0    8\n",
            "Name: Rating, dtype: int64\n",
            "Standard Deviation Rating: 1.8595903775592264\n"
          ]
        }
      ],
      "source": [
        "#import necessary libraries\n",
        "import pandas as pd\n",
        "import numpy as np\n",
        "\n",
        "df = pd.read_csv('Movie Ratings.csv')  #load the dataset\n",
        "\n",
        "print(df.head())  #display the first rows of the dataset\n",
        "\n",
        "\n",
        "#calculate Mean\n",
        "mean_rating = df['Rating'].mean()\n",
        "print(f\"Mean Rating: { mean_rating}\")\n",
        "\n",
        "#calculate Median\n",
        "median_rating = df['Rating'].median()\n",
        "print(f\"Median Rating: {median_rating}\")\n",
        "\n",
        "#calculate Mode\n",
        "mode_rating = df['Rating'].mode()\n",
        "print(f\"Mode Rating: {mode_rating}\")\n",
        "\n",
        "#calculate Standard Deviation\n",
        "std_rating = df['Rating'].std()\n",
        "print(f\"Standard Deviation Rating: {std_rating}\")\n",
        "\n",
        "\n"
      ]
    }
  ]
}