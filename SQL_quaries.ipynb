{
  "nbformat": 4,
  "nbformat_minor": 0,
  "metadata": {
    "colab": {
      "provenance": [],
      "authorship_tag": "ABX9TyPIKmq4Rrs2NLHd5B+J6HwG",
      "include_colab_link": true
    },
    "kernelspec": {
      "name": "python3",
      "display_name": "Python 3"
    },
    "language_info": {
      "name": "python"
    }
  },
  "cells": [
    {
      "cell_type": "markdown",
      "metadata": {
        "id": "view-in-github",
        "colab_type": "text"
      },
      "source": [
        "<a href=\"https://colab.research.google.com/github/jesminmousumy/Python-Programming/blob/main/SQL_quaries.ipynb\" target=\"_parent\"><img src=\"https://colab.research.google.com/assets/colab-badge.svg\" alt=\"Open In Colab\"/></a>"
      ]
    },
    {
      "cell_type": "code",
      "execution_count": 13,
      "metadata": {
        "id": "4dEO1bHKACa6"
      },
      "outputs": [],
      "source": [
        "#install packages\n",
        "import pandas as pd #data manipulation and analysis\n",
        "import sqlite3  # small to medium data analysis\n",
        "\n",
        "conn = sqlite3.connect(':memory:')  #establish a connection to a new SQLite database, :memory: create a temporary database\n",
        "cursor = conn.cursor()   # allow us to execute sql commands\n",
        "\n",
        "#create a 'customers' table\n",
        "cursor.execute('''\n",
        "CREATE TABLE customers(\n",
        "    customer_id INTEGER PRIMARY KEY,\n",
        "    name TEXT,\n",
        "    country TEXT\n",
        ")''')\n",
        "\n",
        "\n",
        "#create 'orders' table\n",
        "cursor.execute('''\n",
        "CREATE TABLE orders (\n",
        "    order_id INTEGER PRIMARY KEY,\n",
        "    customer_id INTEGER,\n",
        "    order_date DATE,\n",
        "    total_amount REAL,\n",
        "    FOREIGN KEY (customer_id) REFERENCES customers(customer_id)\n",
        ")''')\n",
        "\n",
        "#insert sample data into 'customers' table\n",
        "customers_data = [\n",
        "    (1, 'Mousumy','Bangladesh'),\n",
        "    (2, 'Rabbani','Bangladesh'),\n",
        "    (3, 'Muna', 'USA'),\n",
        "    (4, 'David','Germany'),\n",
        "    (5, 'Maria','Spain'),\n",
        "]\n",
        "cursor.executemany('INSERT INTO customers VALUES (?, ?, ?)', customers_data)\n",
        "\n",
        "\n",
        "#insert sample data into 'orders' tables\n",
        "\n",
        "orders_data = [\n",
        "    (1,1,'2024-01-29',200.00),\n",
        "    (2,2,'2024-05-15',250.00),\n",
        "    (3,1,'2024-07-15',300.25),\n",
        "    (4,3,'2024-06-15', 150.00),\n",
        "    (6,5,'2024-06-05',600.00)\n",
        "]\n",
        "cursor.executemany('INSERT INTO orders VALUES (?, ?, ?, ?)', orders_data)\n",
        "\n",
        "#commit the changes to the database\n",
        "conn.commit()\n",
        "\n",
        "\n",
        "\n"
      ]
    },
    {
      "cell_type": "code",
      "source": [
        "#select all data from customers table\n",
        "query = 'SELECT * FROM customers'\n",
        "df = pd.read_sql_query(query, conn)\n",
        "print(df)\n"
      ],
      "metadata": {
        "colab": {
          "base_uri": "https://localhost:8080/"
        },
        "id": "DvEcBPMVN0Cr",
        "outputId": "4146fece-1565-40d4-a9d0-1b1070534469"
      },
      "execution_count": 14,
      "outputs": [
        {
          "output_type": "stream",
          "name": "stdout",
          "text": [
            "   customer_id     name     country\n",
            "0            1  Mousumy  Bangladesh\n",
            "1            2  Rabbani  Bangladesh\n",
            "2            3     Muna         USA\n",
            "3            4    David     Germany\n",
            "4            5    Maria       Spain\n"
          ]
        }
      ]
    },
    {
      "cell_type": "code",
      "source": [
        "#select customers name who are from Bangladesh\n",
        "query = 'SELECT name FROM customers WHERE country = \"Bangladesh\"'\n",
        "df = pd.read_sql_query(query, conn)\n",
        "print(df)"
      ],
      "metadata": {
        "colab": {
          "base_uri": "https://localhost:8080/"
        },
        "id": "swatceeRO0BS",
        "outputId": "d401923c-130f-4832-cc92-35535ef0a553"
      },
      "execution_count": 15,
      "outputs": [
        {
          "output_type": "stream",
          "name": "stdout",
          "text": [
            "      name\n",
            "0  Mousumy\n",
            "1  Rabbani\n"
          ]
        }
      ]
    },
    {
      "cell_type": "code",
      "source": [
        "#List all orders placed by Mousumy\n",
        "query = '''\n",
        "SELECT orders.order_id, orders.order_date, orders.total_amount\n",
        "FROM orders\n",
        "JOIN customers ON orders.customer_id = customers.customer_id\n",
        "WHERE customers.name = 'Mousumy'\n",
        "'''\n",
        "df = pd.read_sql_query(query, conn)\n",
        "print(df)"
      ],
      "metadata": {
        "colab": {
          "base_uri": "https://localhost:8080/"
        },
        "id": "V5YMXaclPbsp",
        "outputId": "276637dc-299e-40ab-c46c-a69e9ee66058"
      },
      "execution_count": 19,
      "outputs": [
        {
          "output_type": "stream",
          "name": "stdout",
          "text": [
            "   order_id  order_date  total_amount\n",
            "0         1  2024-01-29        200.00\n",
            "1         3  2024-07-15        300.25\n"
          ]
        }
      ]
    },
    {
      "cell_type": "code",
      "source": [
        "#Find the total sales made by each customers(total amount)\n",
        "query = '''\n",
        "SELECT customers.name, SUM(orders.total_amount) AS total_sales\n",
        "FROM customers\n",
        "JOIN orders ON customers.customer_id = orders.customer_id\n",
        "GROUP BY customers.name\n",
        "'''\n",
        "df = pd.read_sql_query(query, conn)\n",
        "print(df)"
      ],
      "metadata": {
        "colab": {
          "base_uri": "https://localhost:8080/"
        },
        "id": "uciAuyoARc4z",
        "outputId": "d5b9e9da-635c-4377-ccd1-8a1a2b0d996b"
      },
      "execution_count": 21,
      "outputs": [
        {
          "output_type": "stream",
          "name": "stdout",
          "text": [
            "      name  total_sales\n",
            "0    Maria       600.00\n",
            "1  Mousumy       500.25\n",
            "2     Muna       150.00\n",
            "3  Rabbani       250.00\n"
          ]
        }
      ]
    },
    {
      "cell_type": "code",
      "source": [
        "#Get the average order value for each customer\n",
        "query = '''\n",
        "SELECT customers.name, AVG(orders.total_amount) AS avg_order_value\n",
        "FROM customers\n",
        "JOIN orders ON customers.customer_id = orders.customer_id\n",
        "GROUP BY customers.name\n",
        "'''\n",
        "df = pd.read_sql_query(query, conn)\n",
        "print(df)"
      ],
      "metadata": {
        "colab": {
          "base_uri": "https://localhost:8080/"
        },
        "id": "m_0cAvd4S6PE",
        "outputId": "b9c41a3b-ec7b-4e97-a3d9-facec4e4648b"
      },
      "execution_count": 23,
      "outputs": [
        {
          "output_type": "stream",
          "name": "stdout",
          "text": [
            "      name  avg_order_value\n",
            "0    Maria          600.000\n",
            "1  Mousumy          250.125\n",
            "2     Muna          150.000\n",
            "3  Rabbani          250.000\n"
          ]
        }
      ]
    },
    {
      "cell_type": "code",
      "source": [
        "#List all customers who have placed more than one order\n",
        "query = '''\n",
        "SELECT customers.name, COUNT(orders.order_id) AS num_orders\n",
        "FROM customers\n",
        "JOIN orders ON customers.customer_id = orders.customer_id\n",
        "GROUP BY customers.name\n",
        "HAVING COUNT(orders.order_id) > 1\n",
        "'''\n",
        "df = pd.read_sql_query(query, conn)\n",
        "print(df)\n"
      ],
      "metadata": {
        "colab": {
          "base_uri": "https://localhost:8080/"
        },
        "id": "6U1hgQSuUDyN",
        "outputId": "c4b247c7-eb1f-44ac-837e-0ad10e1b8569"
      },
      "execution_count": 25,
      "outputs": [
        {
          "output_type": "stream",
          "name": "stdout",
          "text": [
            "      name  num_orders\n",
            "0  Mousumy           2\n"
          ]
        }
      ]
    },
    {
      "cell_type": "code",
      "source": [
        "#Retrieve the most recent order for each customer\n",
        "query = '''\n",
        "SELECT customers.name, MAX(orders.order_date) AS most_recent_order_date\n",
        "FROM customers\n",
        "JOIN orders ON customers.customer_id = orders.customer_id\n",
        "GROUP BY customers.name\n",
        "'''\n",
        "df = pd.read_sql_query(query, conn)\n",
        "print(df)"
      ],
      "metadata": {
        "colab": {
          "base_uri": "https://localhost:8080/"
        },
        "id": "K0jFGTEvU6pw",
        "outputId": "c94c0594-ff6d-473b-c2ec-a12eaf99475f"
      },
      "execution_count": 26,
      "outputs": [
        {
          "output_type": "stream",
          "name": "stdout",
          "text": [
            "      name most_recent_order_date\n",
            "0    Maria             2024-06-05\n",
            "1  Mousumy             2024-07-15\n",
            "2     Muna             2024-06-15\n",
            "3  Rabbani             2024-05-15\n"
          ]
        }
      ]
    }
  ]
}